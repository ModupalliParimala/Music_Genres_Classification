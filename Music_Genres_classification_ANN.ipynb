{
  "nbformat": 4,
  "nbformat_minor": 0,
  "metadata": {
    "colab": {
      "name": "Music_Genres_classification_ANN.ipynb",
      "provenance": [],
      "collapsed_sections": [],
      "toc_visible": true,
      "authorship_tag": "ABX9TyMsbV0Lagqpu4+fUBkEXnMS",
      "include_colab_link": true
    },
    "kernelspec": {
      "name": "python3",
      "display_name": "Python 3"
    },
    "language_info": {
      "name": "python"
    }
  },
  "cells": [
    {
      "cell_type": "markdown",
      "metadata": {
        "id": "view-in-github",
        "colab_type": "text"
      },
      "source": [
        "<a href=\"https://colab.research.google.com/github/ModupalliParimala/Music_Genres_Classification/blob/main/Music_Genres_classification_ANN.ipynb\" target=\"_parent\"><img src=\"https://colab.research.google.com/assets/colab-badge.svg\" alt=\"Open In Colab\"/></a>"
      ]
    },
    {
      "cell_type": "code",
      "metadata": {
        "colab": {
          "base_uri": "https://localhost:8080/"
        },
        "id": "0sqCSUenbDtk",
        "outputId": "48a95345-742c-4182-f13c-2dc518c6f778"
      },
      "source": [
        "from google.colab import drive\n",
        "drive.mount(\"/content/gdrive\")"
      ],
      "execution_count": null,
      "outputs": [
        {
          "output_type": "stream",
          "text": [
            "Drive already mounted at /content/gdrive; to attempt to forcibly remount, call drive.mount(\"/content/gdrive\", force_remount=True).\n"
          ],
          "name": "stdout"
        }
      ]
    },
    {
      "cell_type": "code",
      "metadata": {
        "colab": {
          "base_uri": "https://localhost:8080/"
        },
        "id": "bm8Eqbqgca9A",
        "outputId": "46afa02a-2041-4c1a-e345-76f7e4c93ca3"
      },
      "source": [
        "%cd /content/gdrive/MyDrive/Deep_Learning/Projects/"
      ],
      "execution_count": null,
      "outputs": [
        {
          "output_type": "stream",
          "text": [
            "/content/gdrive/MyDrive/Deep_Learning/Projects\n"
          ],
          "name": "stdout"
        }
      ]
    },
    {
      "cell_type": "code",
      "metadata": {
        "id": "WYhwGD2WfRC5"
      },
      "source": [
        "%tensorflow_version 2.x"
      ],
      "execution_count": null,
      "outputs": []
    },
    {
      "cell_type": "code",
      "metadata": {
        "colab": {
          "base_uri": "https://localhost:8080/"
        },
        "id": "--HAzFJwcxxK",
        "outputId": "21bf9cf6-156e-4887-c739-f435c0fae8f5"
      },
      "source": [
        "import pandas as pd\n",
        "import numpy as np\n",
        "# Preprocessing\n",
        "from sklearn.model_selection import train_test_split\n",
        "from sklearn.preprocessing import  StandardScaler,LabelEncoder\n",
        "\n",
        "import tensorflow as tf\n",
        "from tensorflow.keras.utils import to_categorical\n",
        "from tensorflow.keras.layers import Activation,Dense\n",
        "from tensorflow.keras.callbacks import ReduceLROnPlateau\n",
        "\n",
        "from tensorflow.keras.models import Sequential\n",
        "print(tf.__version__)"
      ],
      "execution_count": null,
      "outputs": [
        {
          "output_type": "stream",
          "text": [
            "2.4.1\n"
          ],
          "name": "stdout"
        }
      ]
    },
    {
      "cell_type": "markdown",
      "metadata": {
        "id": "dnL-3QqfcpEK"
      },
      "source": [
        "# Loading Data from csv file"
      ]
    },
    {
      "cell_type": "code",
      "metadata": {
        "colab": {
          "base_uri": "https://localhost:8080/",
          "height": 215
        },
        "id": "Sg5RZcicb9-x",
        "outputId": "d16bb4ef-0af4-4e18-a606-f6c8017870b4"
      },
      "source": [
        "audio_data = pd.read_csv('Extracted_features.csv')\n",
        "audio_data.head()"
      ],
      "execution_count": null,
      "outputs": [
        {
          "output_type": "execute_result",
          "data": {
            "text/html": [
              "<div>\n",
              "<style scoped>\n",
              "    .dataframe tbody tr th:only-of-type {\n",
              "        vertical-align: middle;\n",
              "    }\n",
              "\n",
              "    .dataframe tbody tr th {\n",
              "        vertical-align: top;\n",
              "    }\n",
              "\n",
              "    .dataframe thead th {\n",
              "        text-align: right;\n",
              "    }\n",
              "</style>\n",
              "<table border=\"1\" class=\"dataframe\">\n",
              "  <thead>\n",
              "    <tr style=\"text-align: right;\">\n",
              "      <th></th>\n",
              "      <th>filename</th>\n",
              "      <th>chroma_stft</th>\n",
              "      <th>rmse</th>\n",
              "      <th>spectral_centroid</th>\n",
              "      <th>spectral_bandwidth</th>\n",
              "      <th>rolloff</th>\n",
              "      <th>zero_crossing_rate</th>\n",
              "      <th>mfcc1</th>\n",
              "      <th>mfcc2</th>\n",
              "      <th>mfcc3</th>\n",
              "      <th>mfcc4</th>\n",
              "      <th>mfcc5</th>\n",
              "      <th>mfcc6</th>\n",
              "      <th>mfcc7</th>\n",
              "      <th>mfcc8</th>\n",
              "      <th>mfcc9</th>\n",
              "      <th>mfcc10</th>\n",
              "      <th>mfcc11</th>\n",
              "      <th>mfcc12</th>\n",
              "      <th>mfcc13</th>\n",
              "      <th>mfcc14</th>\n",
              "      <th>mfcc15</th>\n",
              "      <th>mfcc16</th>\n",
              "      <th>mfcc17</th>\n",
              "      <th>mfcc18</th>\n",
              "      <th>mfcc19</th>\n",
              "      <th>mfcc20</th>\n",
              "      <th>label</th>\n",
              "    </tr>\n",
              "  </thead>\n",
              "  <tbody>\n",
              "    <tr>\n",
              "      <th>0</th>\n",
              "      <td>blues.00000.wav</td>\n",
              "      <td>0.349943</td>\n",
              "      <td>0.130225</td>\n",
              "      <td>1784.420446</td>\n",
              "      <td>2002.650192</td>\n",
              "      <td>3806.485316</td>\n",
              "      <td>0.083066</td>\n",
              "      <td>-113.596748</td>\n",
              "      <td>121.557297</td>\n",
              "      <td>-19.158825</td>\n",
              "      <td>42.351032</td>\n",
              "      <td>-6.376458</td>\n",
              "      <td>18.618876</td>\n",
              "      <td>-13.697912</td>\n",
              "      <td>15.344631</td>\n",
              "      <td>-12.285267</td>\n",
              "      <td>10.980492</td>\n",
              "      <td>-8.324325</td>\n",
              "      <td>8.810669</td>\n",
              "      <td>-3.667368</td>\n",
              "      <td>5.751691</td>\n",
              "      <td>-5.162763</td>\n",
              "      <td>0.750948</td>\n",
              "      <td>-1.691938</td>\n",
              "      <td>-0.409953</td>\n",
              "      <td>-2.300209</td>\n",
              "      <td>1.219929</td>\n",
              "      <td>blues</td>\n",
              "    </tr>\n",
              "    <tr>\n",
              "      <th>1</th>\n",
              "      <td>blues.00001.wav</td>\n",
              "      <td>0.340983</td>\n",
              "      <td>0.095918</td>\n",
              "      <td>1529.835316</td>\n",
              "      <td>2038.617579</td>\n",
              "      <td>3548.820207</td>\n",
              "      <td>0.056044</td>\n",
              "      <td>-207.556793</td>\n",
              "      <td>124.006721</td>\n",
              "      <td>8.930560</td>\n",
              "      <td>35.874687</td>\n",
              "      <td>2.916037</td>\n",
              "      <td>21.523726</td>\n",
              "      <td>-8.554704</td>\n",
              "      <td>23.358671</td>\n",
              "      <td>-10.103617</td>\n",
              "      <td>11.903744</td>\n",
              "      <td>-5.560388</td>\n",
              "      <td>5.376803</td>\n",
              "      <td>-2.239120</td>\n",
              "      <td>4.216963</td>\n",
              "      <td>-6.012273</td>\n",
              "      <td>0.936110</td>\n",
              "      <td>-0.716537</td>\n",
              "      <td>0.293876</td>\n",
              "      <td>-0.287431</td>\n",
              "      <td>0.531573</td>\n",
              "      <td>blues</td>\n",
              "    </tr>\n",
              "    <tr>\n",
              "      <th>2</th>\n",
              "      <td>blues.00002.wav</td>\n",
              "      <td>0.363603</td>\n",
              "      <td>0.175573</td>\n",
              "      <td>1552.481958</td>\n",
              "      <td>1747.165985</td>\n",
              "      <td>3040.514948</td>\n",
              "      <td>0.076301</td>\n",
              "      <td>-90.754387</td>\n",
              "      <td>140.459900</td>\n",
              "      <td>-29.109968</td>\n",
              "      <td>31.689013</td>\n",
              "      <td>-13.987036</td>\n",
              "      <td>25.754759</td>\n",
              "      <td>-13.649585</td>\n",
              "      <td>11.629271</td>\n",
              "      <td>-11.780589</td>\n",
              "      <td>9.706443</td>\n",
              "      <td>-13.123111</td>\n",
              "      <td>5.789265</td>\n",
              "      <td>-8.905224</td>\n",
              "      <td>-1.083720</td>\n",
              "      <td>-9.218359</td>\n",
              "      <td>2.455806</td>\n",
              "      <td>-7.726901</td>\n",
              "      <td>-1.815723</td>\n",
              "      <td>-3.433434</td>\n",
              "      <td>-2.226821</td>\n",
              "      <td>blues</td>\n",
              "    </tr>\n",
              "    <tr>\n",
              "      <th>3</th>\n",
              "      <td>blues.00003.wav</td>\n",
              "      <td>0.404779</td>\n",
              "      <td>0.141191</td>\n",
              "      <td>1070.119953</td>\n",
              "      <td>1596.333948</td>\n",
              "      <td>2185.028454</td>\n",
              "      <td>0.033309</td>\n",
              "      <td>-199.431152</td>\n",
              "      <td>150.099213</td>\n",
              "      <td>5.647593</td>\n",
              "      <td>26.871927</td>\n",
              "      <td>1.754462</td>\n",
              "      <td>14.238345</td>\n",
              "      <td>-4.830883</td>\n",
              "      <td>9.297966</td>\n",
              "      <td>-0.757742</td>\n",
              "      <td>8.149013</td>\n",
              "      <td>-3.196314</td>\n",
              "      <td>6.087677</td>\n",
              "      <td>-2.476421</td>\n",
              "      <td>-1.073890</td>\n",
              "      <td>-2.874778</td>\n",
              "      <td>0.780977</td>\n",
              "      <td>-3.316932</td>\n",
              "      <td>0.637982</td>\n",
              "      <td>-0.619690</td>\n",
              "      <td>-3.408233</td>\n",
              "      <td>blues</td>\n",
              "    </tr>\n",
              "    <tr>\n",
              "      <th>4</th>\n",
              "      <td>blues.00004.wav</td>\n",
              "      <td>0.308590</td>\n",
              "      <td>0.091563</td>\n",
              "      <td>1835.494603</td>\n",
              "      <td>1748.362448</td>\n",
              "      <td>3580.945013</td>\n",
              "      <td>0.101500</td>\n",
              "      <td>-160.266037</td>\n",
              "      <td>126.198799</td>\n",
              "      <td>-35.605450</td>\n",
              "      <td>22.153301</td>\n",
              "      <td>-32.489265</td>\n",
              "      <td>10.864513</td>\n",
              "      <td>-23.357929</td>\n",
              "      <td>0.503118</td>\n",
              "      <td>-11.805833</td>\n",
              "      <td>1.206805</td>\n",
              "      <td>-13.083821</td>\n",
              "      <td>-2.806384</td>\n",
              "      <td>-6.934123</td>\n",
              "      <td>-7.558618</td>\n",
              "      <td>-9.173553</td>\n",
              "      <td>-4.512165</td>\n",
              "      <td>-5.453538</td>\n",
              "      <td>-0.924161</td>\n",
              "      <td>-4.409332</td>\n",
              "      <td>-11.703781</td>\n",
              "      <td>blues</td>\n",
              "    </tr>\n",
              "  </tbody>\n",
              "</table>\n",
              "</div>"
            ],
            "text/plain": [
              "          filename  chroma_stft      rmse  ...    mfcc19     mfcc20  label\n",
              "0  blues.00000.wav     0.349943  0.130225  ... -2.300209   1.219929  blues\n",
              "1  blues.00001.wav     0.340983  0.095918  ... -0.287431   0.531573  blues\n",
              "2  blues.00002.wav     0.363603  0.175573  ... -3.433434  -2.226821  blues\n",
              "3  blues.00003.wav     0.404779  0.141191  ... -0.619690  -3.408233  blues\n",
              "4  blues.00004.wav     0.308590  0.091563  ... -4.409332 -11.703781  blues\n",
              "\n",
              "[5 rows x 28 columns]"
            ]
          },
          "metadata": {
            "tags": []
          },
          "execution_count": 5
        }
      ]
    },
    {
      "cell_type": "code",
      "metadata": {
        "colab": {
          "base_uri": "https://localhost:8080/",
          "height": 215
        },
        "id": "O5ZTrRtRdLlz",
        "outputId": "1db3c0b9-46e0-4084-96e9-e586f85955e9"
      },
      "source": [
        "#Filename column is not required.so dropping it\n",
        "# Dropping unneccesary columns\n",
        "audio_data.drop(['filename'],axis=1,inplace=True)\n",
        "audio_data.head()"
      ],
      "execution_count": null,
      "outputs": [
        {
          "output_type": "execute_result",
          "data": {
            "text/html": [
              "<div>\n",
              "<style scoped>\n",
              "    .dataframe tbody tr th:only-of-type {\n",
              "        vertical-align: middle;\n",
              "    }\n",
              "\n",
              "    .dataframe tbody tr th {\n",
              "        vertical-align: top;\n",
              "    }\n",
              "\n",
              "    .dataframe thead th {\n",
              "        text-align: right;\n",
              "    }\n",
              "</style>\n",
              "<table border=\"1\" class=\"dataframe\">\n",
              "  <thead>\n",
              "    <tr style=\"text-align: right;\">\n",
              "      <th></th>\n",
              "      <th>chroma_stft</th>\n",
              "      <th>rmse</th>\n",
              "      <th>spectral_centroid</th>\n",
              "      <th>spectral_bandwidth</th>\n",
              "      <th>rolloff</th>\n",
              "      <th>zero_crossing_rate</th>\n",
              "      <th>mfcc1</th>\n",
              "      <th>mfcc2</th>\n",
              "      <th>mfcc3</th>\n",
              "      <th>mfcc4</th>\n",
              "      <th>mfcc5</th>\n",
              "      <th>mfcc6</th>\n",
              "      <th>mfcc7</th>\n",
              "      <th>mfcc8</th>\n",
              "      <th>mfcc9</th>\n",
              "      <th>mfcc10</th>\n",
              "      <th>mfcc11</th>\n",
              "      <th>mfcc12</th>\n",
              "      <th>mfcc13</th>\n",
              "      <th>mfcc14</th>\n",
              "      <th>mfcc15</th>\n",
              "      <th>mfcc16</th>\n",
              "      <th>mfcc17</th>\n",
              "      <th>mfcc18</th>\n",
              "      <th>mfcc19</th>\n",
              "      <th>mfcc20</th>\n",
              "      <th>label</th>\n",
              "    </tr>\n",
              "  </thead>\n",
              "  <tbody>\n",
              "    <tr>\n",
              "      <th>0</th>\n",
              "      <td>0.349943</td>\n",
              "      <td>0.130225</td>\n",
              "      <td>1784.420446</td>\n",
              "      <td>2002.650192</td>\n",
              "      <td>3806.485316</td>\n",
              "      <td>0.083066</td>\n",
              "      <td>-113.596748</td>\n",
              "      <td>121.557297</td>\n",
              "      <td>-19.158825</td>\n",
              "      <td>42.351032</td>\n",
              "      <td>-6.376458</td>\n",
              "      <td>18.618876</td>\n",
              "      <td>-13.697912</td>\n",
              "      <td>15.344631</td>\n",
              "      <td>-12.285267</td>\n",
              "      <td>10.980492</td>\n",
              "      <td>-8.324325</td>\n",
              "      <td>8.810669</td>\n",
              "      <td>-3.667368</td>\n",
              "      <td>5.751691</td>\n",
              "      <td>-5.162763</td>\n",
              "      <td>0.750948</td>\n",
              "      <td>-1.691938</td>\n",
              "      <td>-0.409953</td>\n",
              "      <td>-2.300209</td>\n",
              "      <td>1.219929</td>\n",
              "      <td>blues</td>\n",
              "    </tr>\n",
              "    <tr>\n",
              "      <th>1</th>\n",
              "      <td>0.340983</td>\n",
              "      <td>0.095918</td>\n",
              "      <td>1529.835316</td>\n",
              "      <td>2038.617579</td>\n",
              "      <td>3548.820207</td>\n",
              "      <td>0.056044</td>\n",
              "      <td>-207.556793</td>\n",
              "      <td>124.006721</td>\n",
              "      <td>8.930560</td>\n",
              "      <td>35.874687</td>\n",
              "      <td>2.916037</td>\n",
              "      <td>21.523726</td>\n",
              "      <td>-8.554704</td>\n",
              "      <td>23.358671</td>\n",
              "      <td>-10.103617</td>\n",
              "      <td>11.903744</td>\n",
              "      <td>-5.560388</td>\n",
              "      <td>5.376803</td>\n",
              "      <td>-2.239120</td>\n",
              "      <td>4.216963</td>\n",
              "      <td>-6.012273</td>\n",
              "      <td>0.936110</td>\n",
              "      <td>-0.716537</td>\n",
              "      <td>0.293876</td>\n",
              "      <td>-0.287431</td>\n",
              "      <td>0.531573</td>\n",
              "      <td>blues</td>\n",
              "    </tr>\n",
              "    <tr>\n",
              "      <th>2</th>\n",
              "      <td>0.363603</td>\n",
              "      <td>0.175573</td>\n",
              "      <td>1552.481958</td>\n",
              "      <td>1747.165985</td>\n",
              "      <td>3040.514948</td>\n",
              "      <td>0.076301</td>\n",
              "      <td>-90.754387</td>\n",
              "      <td>140.459900</td>\n",
              "      <td>-29.109968</td>\n",
              "      <td>31.689013</td>\n",
              "      <td>-13.987036</td>\n",
              "      <td>25.754759</td>\n",
              "      <td>-13.649585</td>\n",
              "      <td>11.629271</td>\n",
              "      <td>-11.780589</td>\n",
              "      <td>9.706443</td>\n",
              "      <td>-13.123111</td>\n",
              "      <td>5.789265</td>\n",
              "      <td>-8.905224</td>\n",
              "      <td>-1.083720</td>\n",
              "      <td>-9.218359</td>\n",
              "      <td>2.455806</td>\n",
              "      <td>-7.726901</td>\n",
              "      <td>-1.815723</td>\n",
              "      <td>-3.433434</td>\n",
              "      <td>-2.226821</td>\n",
              "      <td>blues</td>\n",
              "    </tr>\n",
              "    <tr>\n",
              "      <th>3</th>\n",
              "      <td>0.404779</td>\n",
              "      <td>0.141191</td>\n",
              "      <td>1070.119953</td>\n",
              "      <td>1596.333948</td>\n",
              "      <td>2185.028454</td>\n",
              "      <td>0.033309</td>\n",
              "      <td>-199.431152</td>\n",
              "      <td>150.099213</td>\n",
              "      <td>5.647593</td>\n",
              "      <td>26.871927</td>\n",
              "      <td>1.754462</td>\n",
              "      <td>14.238345</td>\n",
              "      <td>-4.830883</td>\n",
              "      <td>9.297966</td>\n",
              "      <td>-0.757742</td>\n",
              "      <td>8.149013</td>\n",
              "      <td>-3.196314</td>\n",
              "      <td>6.087677</td>\n",
              "      <td>-2.476421</td>\n",
              "      <td>-1.073890</td>\n",
              "      <td>-2.874778</td>\n",
              "      <td>0.780977</td>\n",
              "      <td>-3.316932</td>\n",
              "      <td>0.637982</td>\n",
              "      <td>-0.619690</td>\n",
              "      <td>-3.408233</td>\n",
              "      <td>blues</td>\n",
              "    </tr>\n",
              "    <tr>\n",
              "      <th>4</th>\n",
              "      <td>0.308590</td>\n",
              "      <td>0.091563</td>\n",
              "      <td>1835.494603</td>\n",
              "      <td>1748.362448</td>\n",
              "      <td>3580.945013</td>\n",
              "      <td>0.101500</td>\n",
              "      <td>-160.266037</td>\n",
              "      <td>126.198799</td>\n",
              "      <td>-35.605450</td>\n",
              "      <td>22.153301</td>\n",
              "      <td>-32.489265</td>\n",
              "      <td>10.864513</td>\n",
              "      <td>-23.357929</td>\n",
              "      <td>0.503118</td>\n",
              "      <td>-11.805833</td>\n",
              "      <td>1.206805</td>\n",
              "      <td>-13.083821</td>\n",
              "      <td>-2.806384</td>\n",
              "      <td>-6.934123</td>\n",
              "      <td>-7.558618</td>\n",
              "      <td>-9.173553</td>\n",
              "      <td>-4.512165</td>\n",
              "      <td>-5.453538</td>\n",
              "      <td>-0.924161</td>\n",
              "      <td>-4.409332</td>\n",
              "      <td>-11.703781</td>\n",
              "      <td>blues</td>\n",
              "    </tr>\n",
              "  </tbody>\n",
              "</table>\n",
              "</div>"
            ],
            "text/plain": [
              "   chroma_stft      rmse  spectral_centroid  ...    mfcc19     mfcc20  label\n",
              "0     0.349943  0.130225        1784.420446  ... -2.300209   1.219929  blues\n",
              "1     0.340983  0.095918        1529.835316  ... -0.287431   0.531573  blues\n",
              "2     0.363603  0.175573        1552.481958  ... -3.433434  -2.226821  blues\n",
              "3     0.404779  0.141191        1070.119953  ... -0.619690  -3.408233  blues\n",
              "4     0.308590  0.091563        1835.494603  ... -4.409332 -11.703781  blues\n",
              "\n",
              "[5 rows x 27 columns]"
            ]
          },
          "metadata": {
            "tags": []
          },
          "execution_count": 6
        }
      ]
    },
    {
      "cell_type": "code",
      "metadata": {
        "colab": {
          "base_uri": "https://localhost:8080/"
        },
        "id": "ckoKMQ_Eeq4M",
        "outputId": "bebec36e-3393-4498-da2f-ec096059eed6"
      },
      "source": [
        "audio_data.shape"
      ],
      "execution_count": null,
      "outputs": [
        {
          "output_type": "execute_result",
          "data": {
            "text/plain": [
              "(1000, 27)"
            ]
          },
          "metadata": {
            "tags": []
          },
          "execution_count": 7
        }
      ]
    },
    {
      "cell_type": "code",
      "metadata": {
        "colab": {
          "base_uri": "https://localhost:8080/"
        },
        "id": "EGroDEr6dnz2",
        "outputId": "95205e89-35ee-4658-f50a-b6f38a6be685"
      },
      "source": [
        "audio_data.iloc[:, -1].value_counts()"
      ],
      "execution_count": null,
      "outputs": [
        {
          "output_type": "execute_result",
          "data": {
            "text/plain": [
              "pop          100\n",
              "hiphop       100\n",
              "metal        100\n",
              "rock         100\n",
              "reggae       100\n",
              "country      100\n",
              "classical    100\n",
              "jazz         100\n",
              "blues        100\n",
              "disco        100\n",
              "Name: label, dtype: int64"
            ]
          },
          "metadata": {
            "tags": []
          },
          "execution_count": 8
        }
      ]
    },
    {
      "cell_type": "code",
      "metadata": {
        "colab": {
          "base_uri": "https://localhost:8080/"
        },
        "id": "7CYECkE4vARi",
        "outputId": "06329346-857a-4db9-b3fc-a1fab739f34a"
      },
      "source": [
        "#encode genres into integers.Each integer represents the specific genre.\n",
        "genre_list = audio_data.iloc[:, -1]\n",
        "encoder = LabelEncoder()\n",
        "y = encoder.fit_transform(genre_list)\n",
        "y = to_categorical(y,num_classes=10)\n",
        "y"
      ],
      "execution_count": null,
      "outputs": [
        {
          "output_type": "execute_result",
          "data": {
            "text/plain": [
              "array([[1., 0., 0., ..., 0., 0., 0.],\n",
              "       [1., 0., 0., ..., 0., 0., 0.],\n",
              "       [1., 0., 0., ..., 0., 0., 0.],\n",
              "       ...,\n",
              "       [0., 0., 0., ..., 0., 0., 1.],\n",
              "       [0., 0., 0., ..., 0., 0., 1.],\n",
              "       [0., 0., 0., ..., 0., 0., 1.]], dtype=float32)"
            ]
          },
          "metadata": {
            "tags": []
          },
          "execution_count": 9
        }
      ]
    },
    {
      "cell_type": "code",
      "metadata": {
        "colab": {
          "base_uri": "https://localhost:8080/"
        },
        "id": "gYs9XNdtv0Xu",
        "outputId": "cf2243c9-8c2a-4bcf-8435-e9c53f725427"
      },
      "source": [
        "y.shape"
      ],
      "execution_count": null,
      "outputs": [
        {
          "output_type": "execute_result",
          "data": {
            "text/plain": [
              "(1000, 10)"
            ]
          },
          "metadata": {
            "tags": []
          },
          "execution_count": 10
        }
      ]
    },
    {
      "cell_type": "markdown",
      "metadata": {
        "id": "yc-fFedieJOy"
      },
      "source": [
        "# Normalizing the data"
      ]
    },
    {
      "cell_type": "code",
      "metadata": {
        "id": "XLzi_cameLWB"
      },
      "source": [
        "scaler = StandardScaler()\n",
        "X = scaler.fit_transform(np.array(audio_data.iloc[:, :-1], dtype = float))"
      ],
      "execution_count": null,
      "outputs": []
    },
    {
      "cell_type": "markdown",
      "metadata": {
        "id": "b7NFD06YeSDO"
      },
      "source": [
        "# Splitting dataset into Train and Test"
      ]
    },
    {
      "cell_type": "code",
      "metadata": {
        "id": "o80QBvf1eVpG"
      },
      "source": [
        "X_train, X_test, y_train, y_test = train_test_split(X, y, test_size=0.2)"
      ],
      "execution_count": null,
      "outputs": []
    },
    {
      "cell_type": "code",
      "metadata": {
        "colab": {
          "base_uri": "https://localhost:8080/"
        },
        "id": "exw1MMGxedhB",
        "outputId": "9a1d5775-7db9-4242-ef90-dfa4a8f4b964"
      },
      "source": [
        "X_train.shape,y_train.shape"
      ],
      "execution_count": null,
      "outputs": [
        {
          "output_type": "execute_result",
          "data": {
            "text/plain": [
              "((800, 26), (800, 10))"
            ]
          },
          "metadata": {
            "tags": []
          },
          "execution_count": 13
        }
      ]
    },
    {
      "cell_type": "code",
      "metadata": {
        "colab": {
          "base_uri": "https://localhost:8080/"
        },
        "id": "G1VcCjPteixT",
        "outputId": "0058a830-5365-44e7-ac1d-00850c7018a8"
      },
      "source": [
        "X_test.shape,y_test.shape"
      ],
      "execution_count": null,
      "outputs": [
        {
          "output_type": "execute_result",
          "data": {
            "text/plain": [
              "((200, 26), (200, 10))"
            ]
          },
          "metadata": {
            "tags": []
          },
          "execution_count": 14
        }
      ]
    },
    {
      "cell_type": "code",
      "metadata": {
        "colab": {
          "base_uri": "https://localhost:8080/"
        },
        "id": "7YlfgYHWgPEX",
        "outputId": "9e683228-8d81-4f79-8e49-18df31c927f4"
      },
      "source": [
        "X_train.shape[1]"
      ],
      "execution_count": null,
      "outputs": [
        {
          "output_type": "execute_result",
          "data": {
            "text/plain": [
              "26"
            ]
          },
          "metadata": {
            "tags": []
          },
          "execution_count": 15
        }
      ]
    },
    {
      "cell_type": "code",
      "metadata": {
        "id": "eMwa-0Jve1Et"
      },
      "source": [
        "#Building ANN(also known as Feed Forward Network)\n",
        "model = Sequential()\n",
        "model.add(Dense(512, activation='relu', input_shape=(X_train.shape[1],)))\n",
        "\n",
        "model.add(Dense(256, activation='relu'))\n",
        "\n",
        "model.add(Dense(128, activation='relu'))\n",
        "\n",
        "model.add(Dense(64, activation='relu'))\n",
        "\n",
        "model.add(Dense(10, activation='softmax'))"
      ],
      "execution_count": null,
      "outputs": []
    },
    {
      "cell_type": "code",
      "metadata": {
        "colab": {
          "base_uri": "https://localhost:8080/"
        },
        "id": "VhzeoKxKhal8",
        "outputId": "1f66a5a0-4ac7-4213-8337-e4aa05395c4b"
      },
      "source": [
        "model.summary()"
      ],
      "execution_count": null,
      "outputs": [
        {
          "output_type": "stream",
          "text": [
            "Model: \"sequential\"\n",
            "_________________________________________________________________\n",
            "Layer (type)                 Output Shape              Param #   \n",
            "=================================================================\n",
            "dense (Dense)                (None, 512)               13824     \n",
            "_________________________________________________________________\n",
            "dense_1 (Dense)              (None, 256)               131328    \n",
            "_________________________________________________________________\n",
            "dense_2 (Dense)              (None, 128)               32896     \n",
            "_________________________________________________________________\n",
            "dense_3 (Dense)              (None, 64)                8256      \n",
            "_________________________________________________________________\n",
            "dense_4 (Dense)              (None, 10)                650       \n",
            "=================================================================\n",
            "Total params: 186,954\n",
            "Trainable params: 186,954\n",
            "Non-trainable params: 0\n",
            "_________________________________________________________________\n"
          ],
          "name": "stdout"
        }
      ]
    },
    {
      "cell_type": "code",
      "metadata": {
        "colab": {
          "base_uri": "https://localhost:8080/",
          "height": 564
        },
        "id": "YRgiO3jFjuC4",
        "outputId": "4e747198-fac1-4a36-b039-ef7edebc3773"
      },
      "source": [
        "from tensorflow.keras.utils import plot_model\n",
        "plot_model(model)"
      ],
      "execution_count": null,
      "outputs": [
        {
          "output_type": "execute_result",
          "data": {
            "image/png": "[encoded data removed]",
            "text/plain": [
              "<IPython.core.display.Image object>"
            ]
          },
          "metadata": {
            "tags": []
          },
          "execution_count": 18
        }
      ]
    },
    {
      "cell_type": "code",
      "metadata": {
        "id": "-CxNBfNpgTZ4"
      },
      "source": [
        "model.compile(optimizer='adam',\n",
        "              loss='categorical_crossentropy',\n",
        "              metrics=['accuracy'])"
      ],
      "execution_count": null,
      "outputs": []
    },
    {
      "cell_type": "code",
      "metadata": {
        "colab": {
          "base_uri": "https://localhost:8080/"
        },
        "id": "cC85r0ZXgkiF",
        "outputId": "37559bf1-7062-41a0-cb93-158e8af96652"
      },
      "source": [
        "# if the accuracy does not increase over 10 epochs, reduce the learning rate by half.\n",
        "reduce_lr = ReduceLROnPlateau(monitor='accuracy', factor=0.5, patience=10, min_lr=0.0001, verbose=1)\n",
        "history = model.fit(X_train,\n",
        "                    y_train,\n",
        "                    epochs=200,\n",
        "                    batch_size=32,\n",
        "                    validation_data=(X_test, y_test),\n",
        "                    callbacks=[reduce_lr])"
      ],
      "execution_count": null,
      "outputs": [
        {
          "output_type": "stream",
          "text": [
            "Epoch 1/200\n",
            "25/25 [==============================] - 1s 31ms/step - loss: 2.0768 - accuracy: 0.2837 - val_loss: 1.4716 - val_accuracy: 0.4500\n",
            "Epoch 2/200\n",
            "25/25 [==============================] - 0s 9ms/step - loss: 1.3352 - accuracy: 0.5132 - val_loss: 1.2617 - val_accuracy: 0.5850\n",
            "Epoch 3/200\n",
            "25/25 [==============================] - 0s 7ms/step - loss: 1.1161 - accuracy: 0.6092 - val_loss: 1.0776 - val_accuracy: 0.6050\n",
            "Epoch 4/200\n",
            "25/25 [==============================] - 0s 6ms/step - loss: 0.9733 - accuracy: 0.6383 - val_loss: 1.0859 - val_accuracy: 0.6200\n",
            "Epoch 5/200\n",
            "25/25 [==============================] - 0s 6ms/step - loss: 0.8015 - accuracy: 0.7482 - val_loss: 1.0183 - val_accuracy: 0.6400\n",
            "Epoch 6/200\n",
            "25/25 [==============================] - 0s 7ms/step - loss: 0.7303 - accuracy: 0.7621 - val_loss: 0.9390 - val_accuracy: 0.6950\n",
            "Epoch 7/200\n",
            "25/25 [==============================] - 0s 7ms/step - loss: 0.5829 - accuracy: 0.8015 - val_loss: 0.9776 - val_accuracy: 0.6250\n",
            "Epoch 8/200\n",
            "25/25 [==============================] - 0s 6ms/step - loss: 0.5037 - accuracy: 0.8364 - val_loss: 0.9728 - val_accuracy: 0.6750\n",
            "Epoch 9/200\n",
            "25/25 [==============================] - 0s 7ms/step - loss: 0.4255 - accuracy: 0.8622 - val_loss: 0.9023 - val_accuracy: 0.6950\n",
            "Epoch 10/200\n",
            "25/25 [==============================] - 0s 6ms/step - loss: 0.3849 - accuracy: 0.8822 - val_loss: 0.9908 - val_accuracy: 0.6650\n",
            "Epoch 11/200\n",
            "25/25 [==============================] - 0s 6ms/step - loss: 0.3385 - accuracy: 0.8853 - val_loss: 1.0351 - val_accuracy: 0.7000\n",
            "Epoch 12/200\n",
            "25/25 [==============================] - 0s 7ms/step - loss: 0.3217 - accuracy: 0.8904 - val_loss: 0.9454 - val_accuracy: 0.7000\n",
            "Epoch 13/200\n",
            "25/25 [==============================] - 0s 7ms/step - loss: 0.2112 - accuracy: 0.9498 - val_loss: 0.8925 - val_accuracy: 0.7150\n",
            "Epoch 14/200\n",
            "25/25 [==============================] - 0s 6ms/step - loss: 0.1691 - accuracy: 0.9567 - val_loss: 1.0807 - val_accuracy: 0.6950\n",
            "Epoch 15/200\n",
            "25/25 [==============================] - 0s 6ms/step - loss: 0.1614 - accuracy: 0.9600 - val_loss: 1.0702 - val_accuracy: 0.7050\n",
            "Epoch 16/200\n",
            "25/25 [==============================] - 0s 7ms/step - loss: 0.1640 - accuracy: 0.9635 - val_loss: 1.1440 - val_accuracy: 0.6900\n",
            "Epoch 17/200\n",
            "25/25 [==============================] - 0s 6ms/step - loss: 0.1294 - accuracy: 0.9655 - val_loss: 1.1410 - val_accuracy: 0.6900\n",
            "Epoch 18/200\n",
            "25/25 [==============================] - 0s 7ms/step - loss: 0.1061 - accuracy: 0.9751 - val_loss: 1.0778 - val_accuracy: 0.7250\n",
            "Epoch 19/200\n",
            "25/25 [==============================] - 0s 7ms/step - loss: 0.0663 - accuracy: 0.9923 - val_loss: 1.0757 - val_accuracy: 0.7050\n",
            "Epoch 20/200\n",
            "25/25 [==============================] - 0s 6ms/step - loss: 0.0408 - accuracy: 0.9968 - val_loss: 1.1532 - val_accuracy: 0.7000\n",
            "Epoch 21/200\n",
            "25/25 [==============================] - 0s 6ms/step - loss: 0.0418 - accuracy: 0.9974 - val_loss: 1.1780 - val_accuracy: 0.7100\n",
            "Epoch 22/200\n",
            "25/25 [==============================] - 0s 6ms/step - loss: 0.0303 - accuracy: 0.9943 - val_loss: 1.2562 - val_accuracy: 0.7100\n",
            "Epoch 23/200\n",
            "25/25 [==============================] - 0s 7ms/step - loss: 0.0266 - accuracy: 0.9960 - val_loss: 1.2885 - val_accuracy: 0.7000\n",
            "Epoch 24/200\n",
            "25/25 [==============================] - 0s 6ms/step - loss: 0.0315 - accuracy: 0.9929 - val_loss: 1.3377 - val_accuracy: 0.7000\n",
            "Epoch 25/200\n",
            "25/25 [==============================] - 0s 6ms/step - loss: 0.0380 - accuracy: 0.9932 - val_loss: 1.3702 - val_accuracy: 0.7150\n",
            "Epoch 26/200\n",
            "25/25 [==============================] - 0s 6ms/step - loss: 0.0311 - accuracy: 0.9948 - val_loss: 1.3980 - val_accuracy: 0.6750\n",
            "Epoch 27/200\n",
            "25/25 [==============================] - 0s 7ms/step - loss: 0.0261 - accuracy: 0.9930 - val_loss: 1.3439 - val_accuracy: 0.7050\n",
            "Epoch 28/200\n",
            "25/25 [==============================] - 0s 6ms/step - loss: 0.0488 - accuracy: 0.9863 - val_loss: 1.2808 - val_accuracy: 0.7000\n",
            "Epoch 29/200\n",
            "25/25 [==============================] - 0s 6ms/step - loss: 0.0223 - accuracy: 0.9956 - val_loss: 1.3865 - val_accuracy: 0.6900\n",
            "Epoch 30/200\n",
            "25/25 [==============================] - 0s 7ms/step - loss: 0.0105 - accuracy: 1.0000 - val_loss: 1.3189 - val_accuracy: 0.7150\n",
            "Epoch 31/200\n",
            "25/25 [==============================] - 0s 6ms/step - loss: 0.0091 - accuracy: 0.9992 - val_loss: 1.4135 - val_accuracy: 0.7000\n",
            "Epoch 32/200\n",
            "25/25 [==============================] - 0s 7ms/step - loss: 0.0073 - accuracy: 0.9983 - val_loss: 1.4590 - val_accuracy: 0.7150\n",
            "Epoch 33/200\n",
            "25/25 [==============================] - 0s 6ms/step - loss: 0.0088 - accuracy: 0.9989 - val_loss: 1.4268 - val_accuracy: 0.7200\n",
            "Epoch 34/200\n",
            "25/25 [==============================] - 0s 7ms/step - loss: 0.0117 - accuracy: 0.9974 - val_loss: 1.4879 - val_accuracy: 0.7000\n",
            "Epoch 35/200\n",
            "25/25 [==============================] - 0s 6ms/step - loss: 0.0615 - accuracy: 0.9871 - val_loss: 1.8316 - val_accuracy: 0.6450\n",
            "Epoch 36/200\n",
            "25/25 [==============================] - 0s 7ms/step - loss: 0.1048 - accuracy: 0.9662 - val_loss: 1.5014 - val_accuracy: 0.6800\n",
            "Epoch 37/200\n",
            "25/25 [==============================] - 0s 6ms/step - loss: 0.1798 - accuracy: 0.9363 - val_loss: 1.7381 - val_accuracy: 0.6100\n",
            "Epoch 38/200\n",
            "25/25 [==============================] - 0s 7ms/step - loss: 0.1318 - accuracy: 0.9514 - val_loss: 1.5443 - val_accuracy: 0.6900\n",
            "Epoch 39/200\n",
            "25/25 [==============================] - 0s 6ms/step - loss: 0.0804 - accuracy: 0.9687 - val_loss: 1.6085 - val_accuracy: 0.6800\n",
            "Epoch 40/200\n",
            "25/25 [==============================] - 0s 8ms/step - loss: 0.0544 - accuracy: 0.9799 - val_loss: 1.8522 - val_accuracy: 0.6900\n",
            "\n",
            "Epoch 00040: ReduceLROnPlateau reducing learning rate to 0.0005000000237487257.\n",
            "Epoch 41/200\n",
            "25/25 [==============================] - 0s 9ms/step - loss: 0.0972 - accuracy: 0.9762 - val_loss: 1.6838 - val_accuracy: 0.6950\n",
            "Epoch 42/200\n",
            "25/25 [==============================] - 0s 8ms/step - loss: 0.0157 - accuracy: 1.0000 - val_loss: 1.5218 - val_accuracy: 0.7100\n",
            "Epoch 43/200\n",
            "25/25 [==============================] - 0s 9ms/step - loss: 0.0061 - accuracy: 1.0000 - val_loss: 1.5591 - val_accuracy: 0.7000\n",
            "Epoch 44/200\n",
            "25/25 [==============================] - 0s 8ms/step - loss: 0.0042 - accuracy: 1.0000 - val_loss: 1.5645 - val_accuracy: 0.7050\n",
            "Epoch 45/200\n",
            "25/25 [==============================] - 0s 6ms/step - loss: 0.0038 - accuracy: 1.0000 - val_loss: 1.5695 - val_accuracy: 0.7050\n",
            "Epoch 46/200\n",
            "25/25 [==============================] - 0s 6ms/step - loss: 0.0036 - accuracy: 1.0000 - val_loss: 1.5715 - val_accuracy: 0.7050\n",
            "Epoch 47/200\n",
            "25/25 [==============================] - 0s 7ms/step - loss: 0.0030 - accuracy: 1.0000 - val_loss: 1.5779 - val_accuracy: 0.7050\n",
            "Epoch 48/200\n",
            "25/25 [==============================] - 0s 6ms/step - loss: 0.0028 - accuracy: 1.0000 - val_loss: 1.5894 - val_accuracy: 0.7100\n",
            "Epoch 49/200\n",
            "25/25 [==============================] - 0s 6ms/step - loss: 0.0024 - accuracy: 1.0000 - val_loss: 1.5956 - val_accuracy: 0.7100\n",
            "Epoch 50/200\n",
            "25/25 [==============================] - 0s 7ms/step - loss: 0.0025 - accuracy: 1.0000 - val_loss: 1.5992 - val_accuracy: 0.7150\n",
            "\n",
            "Epoch 00050: ReduceLROnPlateau reducing learning rate to 0.0002500000118743628.\n",
            "Epoch 51/200\n",
            "25/25 [==============================] - 0s 7ms/step - loss: 0.0022 - accuracy: 1.0000 - val_loss: 1.6017 - val_accuracy: 0.7150\n",
            "Epoch 52/200\n",
            "25/25 [==============================] - 0s 7ms/step - loss: 0.0022 - accuracy: 1.0000 - val_loss: 1.6063 - val_accuracy: 0.7100\n",
            "Epoch 53/200\n",
            "25/25 [==============================] - 0s 6ms/step - loss: 0.0020 - accuracy: 1.0000 - val_loss: 1.6090 - val_accuracy: 0.7100\n",
            "Epoch 54/200\n",
            "25/25 [==============================] - 0s 7ms/step - loss: 0.0020 - accuracy: 1.0000 - val_loss: 1.6116 - val_accuracy: 0.7100\n",
            "Epoch 55/200\n",
            "25/25 [==============================] - 0s 6ms/step - loss: 0.0020 - accuracy: 1.0000 - val_loss: 1.6152 - val_accuracy: 0.7150\n",
            "Epoch 56/200\n",
            "25/25 [==============================] - 0s 6ms/step - loss: 0.0019 - accuracy: 1.0000 - val_loss: 1.6186 - val_accuracy: 0.7150\n",
            "Epoch 57/200\n",
            "25/25 [==============================] - 0s 8ms/step - loss: 0.0019 - accuracy: 1.0000 - val_loss: 1.6191 - val_accuracy: 0.7150\n",
            "Epoch 58/200\n",
            "25/25 [==============================] - 0s 9ms/step - loss: 0.0019 - accuracy: 1.0000 - val_loss: 1.6253 - val_accuracy: 0.7150\n",
            "Epoch 59/200\n",
            "25/25 [==============================] - 0s 7ms/step - loss: 0.0019 - accuracy: 1.0000 - val_loss: 1.6258 - val_accuracy: 0.7150\n",
            "Epoch 60/200\n",
            "25/25 [==============================] - 0s 9ms/step - loss: 0.0016 - accuracy: 1.0000 - val_loss: 1.6271 - val_accuracy: 0.7150\n",
            "\n",
            "Epoch 00060: ReduceLROnPlateau reducing learning rate to 0.0001250000059371814.\n",
            "Epoch 61/200\n",
            "25/25 [==============================] - 0s 7ms/step - loss: 0.0016 - accuracy: 1.0000 - val_loss: 1.6299 - val_accuracy: 0.7150\n",
            "Epoch 62/200\n",
            "25/25 [==============================] - 0s 8ms/step - loss: 0.0017 - accuracy: 1.0000 - val_loss: 1.6313 - val_accuracy: 0.7150\n",
            "Epoch 63/200\n",
            "25/25 [==============================] - 0s 8ms/step - loss: 0.0016 - accuracy: 1.0000 - val_loss: 1.6327 - val_accuracy: 0.7150\n",
            "Epoch 64/200\n",
            "25/25 [==============================] - 0s 9ms/step - loss: 0.0016 - accuracy: 1.0000 - val_loss: 1.6345 - val_accuracy: 0.7150\n",
            "Epoch 65/200\n",
            "25/25 [==============================] - 0s 8ms/step - loss: 0.0017 - accuracy: 1.0000 - val_loss: 1.6366 - val_accuracy: 0.7150\n",
            "Epoch 66/200\n",
            "25/25 [==============================] - 0s 9ms/step - loss: 0.0018 - accuracy: 1.0000 - val_loss: 1.6381 - val_accuracy: 0.7150\n",
            "Epoch 67/200\n",
            "25/25 [==============================] - 0s 8ms/step - loss: 0.0016 - accuracy: 1.0000 - val_loss: 1.6391 - val_accuracy: 0.7150\n",
            "Epoch 68/200\n",
            "25/25 [==============================] - 0s 8ms/step - loss: 0.0015 - accuracy: 1.0000 - val_loss: 1.6395 - val_accuracy: 0.7150\n",
            "Epoch 69/200\n",
            "25/25 [==============================] - 0s 9ms/step - loss: 0.0015 - accuracy: 1.0000 - val_loss: 1.6414 - val_accuracy: 0.7150\n",
            "Epoch 70/200\n",
            "25/25 [==============================] - 0s 8ms/step - loss: 0.0015 - accuracy: 1.0000 - val_loss: 1.6416 - val_accuracy: 0.7150\n",
            "\n",
            "Epoch 00070: ReduceLROnPlateau reducing learning rate to 0.0001.\n",
            "Epoch 71/200\n",
            "25/25 [==============================] - 0s 8ms/step - loss: 0.0014 - accuracy: 1.0000 - val_loss: 1.6438 - val_accuracy: 0.7150\n",
            "Epoch 72/200\n",
            "25/25 [==============================] - 0s 9ms/step - loss: 0.0014 - accuracy: 1.0000 - val_loss: 1.6442 - val_accuracy: 0.7150\n",
            "Epoch 73/200\n",
            "25/25 [==============================] - 0s 8ms/step - loss: 0.0014 - accuracy: 1.0000 - val_loss: 1.6465 - val_accuracy: 0.7200\n",
            "Epoch 74/200\n",
            "25/25 [==============================] - 0s 9ms/step - loss: 0.0013 - accuracy: 1.0000 - val_loss: 1.6474 - val_accuracy: 0.7200\n",
            "Epoch 75/200\n",
            "25/25 [==============================] - 0s 8ms/step - loss: 0.0013 - accuracy: 1.0000 - val_loss: 1.6492 - val_accuracy: 0.7250\n",
            "Epoch 76/200\n",
            "25/25 [==============================] - 0s 7ms/step - loss: 0.0015 - accuracy: 1.0000 - val_loss: 1.6486 - val_accuracy: 0.7200\n",
            "Epoch 77/200\n",
            "25/25 [==============================] - 0s 6ms/step - loss: 0.0013 - accuracy: 1.0000 - val_loss: 1.6505 - val_accuracy: 0.7200\n",
            "Epoch 78/200\n",
            "25/25 [==============================] - 0s 6ms/step - loss: 0.0012 - accuracy: 1.0000 - val_loss: 1.6524 - val_accuracy: 0.7200\n",
            "Epoch 79/200\n",
            "25/25 [==============================] - 0s 6ms/step - loss: 0.0013 - accuracy: 1.0000 - val_loss: 1.6538 - val_accuracy: 0.7200\n",
            "Epoch 80/200\n",
            "25/25 [==============================] - 0s 7ms/step - loss: 0.0013 - accuracy: 1.0000 - val_loss: 1.6543 - val_accuracy: 0.7200\n",
            "Epoch 81/200\n",
            "25/25 [==============================] - 0s 6ms/step - loss: 0.0013 - accuracy: 1.0000 - val_loss: 1.6556 - val_accuracy: 0.7200\n",
            "Epoch 82/200\n",
            "25/25 [==============================] - 0s 7ms/step - loss: 0.0014 - accuracy: 1.0000 - val_loss: 1.6569 - val_accuracy: 0.7200\n",
            "Epoch 83/200\n",
            "25/25 [==============================] - 0s 6ms/step - loss: 0.0013 - accuracy: 1.0000 - val_loss: 1.6580 - val_accuracy: 0.7250\n",
            "Epoch 84/200\n",
            "25/25 [==============================] - 0s 7ms/step - loss: 0.0012 - accuracy: 1.0000 - val_loss: 1.6596 - val_accuracy: 0.7250\n",
            "Epoch 85/200\n",
            "25/25 [==============================] - 0s 7ms/step - loss: 0.0013 - accuracy: 1.0000 - val_loss: 1.6613 - val_accuracy: 0.7250\n",
            "Epoch 86/200\n",
            "25/25 [==============================] - 0s 7ms/step - loss: 0.0012 - accuracy: 1.0000 - val_loss: 1.6621 - val_accuracy: 0.7250\n",
            "Epoch 87/200\n",
            "25/25 [==============================] - 0s 6ms/step - loss: 0.0012 - accuracy: 1.0000 - val_loss: 1.6643 - val_accuracy: 0.7200\n",
            "Epoch 88/200\n",
            "25/25 [==============================] - 0s 6ms/step - loss: 0.0015 - accuracy: 1.0000 - val_loss: 1.6648 - val_accuracy: 0.7200\n",
            "Epoch 89/200\n",
            "25/25 [==============================] - 0s 7ms/step - loss: 0.0012 - accuracy: 1.0000 - val_loss: 1.6660 - val_accuracy: 0.7200\n",
            "Epoch 90/200\n",
            "25/25 [==============================] - 0s 7ms/step - loss: 0.0013 - accuracy: 1.0000 - val_loss: 1.6668 - val_accuracy: 0.7150\n",
            "Epoch 91/200\n",
            "25/25 [==============================] - 0s 7ms/step - loss: 0.0011 - accuracy: 1.0000 - val_loss: 1.6683 - val_accuracy: 0.7150\n",
            "Epoch 92/200\n",
            "25/25 [==============================] - 0s 7ms/step - loss: 0.0011 - accuracy: 1.0000 - val_loss: 1.6696 - val_accuracy: 0.7200\n",
            "Epoch 93/200\n",
            "25/25 [==============================] - 0s 7ms/step - loss: 0.0013 - accuracy: 1.0000 - val_loss: 1.6704 - val_accuracy: 0.7200\n",
            "Epoch 94/200\n",
            "25/25 [==============================] - 0s 8ms/step - loss: 0.0012 - accuracy: 1.0000 - val_loss: 1.6719 - val_accuracy: 0.7200\n",
            "Epoch 95/200\n",
            "25/25 [==============================] - 0s 8ms/step - loss: 0.0012 - accuracy: 1.0000 - val_loss: 1.6741 - val_accuracy: 0.7150\n",
            "Epoch 96/200\n",
            "25/25 [==============================] - 0s 8ms/step - loss: 0.0011 - accuracy: 1.0000 - val_loss: 1.6767 - val_accuracy: 0.7200\n",
            "Epoch 97/200\n",
            "25/25 [==============================] - 0s 9ms/step - loss: 0.0011 - accuracy: 1.0000 - val_loss: 1.6770 - val_accuracy: 0.7200\n",
            "Epoch 98/200\n",
            "25/25 [==============================] - 0s 8ms/step - loss: 0.0011 - accuracy: 1.0000 - val_loss: 1.6776 - val_accuracy: 0.7200\n",
            "Epoch 99/200\n",
            "25/25 [==============================] - 0s 9ms/step - loss: 9.7598e-04 - accuracy: 1.0000 - val_loss: 1.6795 - val_accuracy: 0.7150\n",
            "Epoch 100/200\n",
            "25/25 [==============================] - 0s 8ms/step - loss: 0.0011 - accuracy: 1.0000 - val_loss: 1.6806 - val_accuracy: 0.7200\n",
            "Epoch 101/200\n",
            "25/25 [==============================] - 0s 8ms/step - loss: 0.0011 - accuracy: 1.0000 - val_loss: 1.6819 - val_accuracy: 0.7200\n",
            "Epoch 102/200\n",
            "25/25 [==============================] - 0s 8ms/step - loss: 0.0011 - accuracy: 1.0000 - val_loss: 1.6833 - val_accuracy: 0.7200\n",
            "Epoch 103/200\n",
            "25/25 [==============================] - 0s 8ms/step - loss: 0.0011 - accuracy: 1.0000 - val_loss: 1.6843 - val_accuracy: 0.7200\n",
            "Epoch 104/200\n",
            "25/25 [==============================] - 0s 9ms/step - loss: 0.0010 - accuracy: 1.0000 - val_loss: 1.6851 - val_accuracy: 0.7200\n",
            "Epoch 105/200\n",
            "25/25 [==============================] - 0s 8ms/step - loss: 9.4683e-04 - accuracy: 1.0000 - val_loss: 1.6869 - val_accuracy: 0.7200\n",
            "Epoch 106/200\n",
            "25/25 [==============================] - 0s 8ms/step - loss: 0.0010 - accuracy: 1.0000 - val_loss: 1.6874 - val_accuracy: 0.7200\n",
            "Epoch 107/200\n",
            "25/25 [==============================] - 0s 8ms/step - loss: 0.0010 - accuracy: 1.0000 - val_loss: 1.6891 - val_accuracy: 0.7200\n",
            "Epoch 108/200\n",
            "25/25 [==============================] - 0s 8ms/step - loss: 9.2755e-04 - accuracy: 1.0000 - val_loss: 1.6908 - val_accuracy: 0.7200\n",
            "Epoch 109/200\n",
            "25/25 [==============================] - 0s 7ms/step - loss: 0.0010 - accuracy: 1.0000 - val_loss: 1.6923 - val_accuracy: 0.7200\n",
            "Epoch 110/200\n",
            "25/25 [==============================] - 0s 6ms/step - loss: 9.8604e-04 - accuracy: 1.0000 - val_loss: 1.6941 - val_accuracy: 0.7200\n",
            "Epoch 111/200\n",
            "25/25 [==============================] - 0s 7ms/step - loss: 9.1427e-04 - accuracy: 1.0000 - val_loss: 1.6939 - val_accuracy: 0.7200\n",
            "Epoch 112/200\n",
            "25/25 [==============================] - 0s 7ms/step - loss: 9.6349e-04 - accuracy: 1.0000 - val_loss: 1.6956 - val_accuracy: 0.7200\n",
            "Epoch 113/200\n",
            "25/25 [==============================] - 0s 6ms/step - loss: 8.7829e-04 - accuracy: 1.0000 - val_loss: 1.6963 - val_accuracy: 0.7200\n",
            "Epoch 114/200\n",
            "25/25 [==============================] - 0s 7ms/step - loss: 9.6120e-04 - accuracy: 1.0000 - val_loss: 1.6988 - val_accuracy: 0.7200\n",
            "Epoch 115/200\n",
            "25/25 [==============================] - 0s 7ms/step - loss: 9.0089e-04 - accuracy: 1.0000 - val_loss: 1.7005 - val_accuracy: 0.7200\n",
            "Epoch 116/200\n",
            "25/25 [==============================] - 0s 7ms/step - loss: 9.2694e-04 - accuracy: 1.0000 - val_loss: 1.7012 - val_accuracy: 0.7200\n",
            "Epoch 117/200\n",
            "25/25 [==============================] - 0s 6ms/step - loss: 9.1141e-04 - accuracy: 1.0000 - val_loss: 1.7037 - val_accuracy: 0.7150\n",
            "Epoch 118/200\n",
            "25/25 [==============================] - 0s 7ms/step - loss: 8.4630e-04 - accuracy: 1.0000 - val_loss: 1.7045 - val_accuracy: 0.7200\n",
            "Epoch 119/200\n",
            "25/25 [==============================] - 0s 7ms/step - loss: 7.7021e-04 - accuracy: 1.0000 - val_loss: 1.7051 - val_accuracy: 0.7200\n",
            "Epoch 120/200\n",
            "25/25 [==============================] - 0s 8ms/step - loss: 8.8089e-04 - accuracy: 1.0000 - val_loss: 1.7071 - val_accuracy: 0.7150\n",
            "Epoch 121/200\n",
            "25/25 [==============================] - 0s 8ms/step - loss: 8.6624e-04 - accuracy: 1.0000 - val_loss: 1.7090 - val_accuracy: 0.7150\n",
            "Epoch 122/200\n",
            "25/25 [==============================] - 0s 9ms/step - loss: 8.1631e-04 - accuracy: 1.0000 - val_loss: 1.7104 - val_accuracy: 0.7150\n",
            "Epoch 123/200\n",
            "25/25 [==============================] - 0s 9ms/step - loss: 8.0686e-04 - accuracy: 1.0000 - val_loss: 1.7109 - val_accuracy: 0.7150\n",
            "Epoch 124/200\n",
            "25/25 [==============================] - 0s 8ms/step - loss: 8.2348e-04 - accuracy: 1.0000 - val_loss: 1.7134 - val_accuracy: 0.7150\n",
            "Epoch 125/200\n",
            "25/25 [==============================] - 0s 8ms/step - loss: 8.2020e-04 - accuracy: 1.0000 - val_loss: 1.7150 - val_accuracy: 0.7150\n",
            "Epoch 126/200\n",
            "25/25 [==============================] - 0s 7ms/step - loss: 7.7600e-04 - accuracy: 1.0000 - val_loss: 1.7153 - val_accuracy: 0.7150\n",
            "Epoch 127/200\n",
            "25/25 [==============================] - 0s 8ms/step - loss: 7.7379e-04 - accuracy: 1.0000 - val_loss: 1.7177 - val_accuracy: 0.7150\n",
            "Epoch 128/200\n",
            "25/25 [==============================] - 0s 8ms/step - loss: 7.5872e-04 - accuracy: 1.0000 - val_loss: 1.7187 - val_accuracy: 0.7150\n",
            "Epoch 129/200\n",
            "25/25 [==============================] - 0s 8ms/step - loss: 7.5723e-04 - accuracy: 1.0000 - val_loss: 1.7207 - val_accuracy: 0.7150\n",
            "Epoch 130/200\n",
            "25/25 [==============================] - 0s 8ms/step - loss: 7.6055e-04 - accuracy: 1.0000 - val_loss: 1.7212 - val_accuracy: 0.7150\n",
            "Epoch 131/200\n",
            "25/25 [==============================] - 0s 8ms/step - loss: 6.6242e-04 - accuracy: 1.0000 - val_loss: 1.7218 - val_accuracy: 0.7100\n",
            "Epoch 132/200\n",
            "25/25 [==============================] - 0s 8ms/step - loss: 7.8716e-04 - accuracy: 1.0000 - val_loss: 1.7255 - val_accuracy: 0.7150\n",
            "Epoch 133/200\n",
            "25/25 [==============================] - 0s 8ms/step - loss: 6.8894e-04 - accuracy: 1.0000 - val_loss: 1.7272 - val_accuracy: 0.7150\n",
            "Epoch 134/200\n",
            "25/25 [==============================] - 0s 8ms/step - loss: 7.6437e-04 - accuracy: 1.0000 - val_loss: 1.7280 - val_accuracy: 0.7150\n",
            "Epoch 135/200\n",
            "25/25 [==============================] - 0s 7ms/step - loss: 6.8633e-04 - accuracy: 1.0000 - val_loss: 1.7292 - val_accuracy: 0.7150\n",
            "Epoch 136/200\n",
            "25/25 [==============================] - 0s 7ms/step - loss: 7.2386e-04 - accuracy: 1.0000 - val_loss: 1.7321 - val_accuracy: 0.7150\n",
            "Epoch 137/200\n",
            "25/25 [==============================] - 0s 6ms/step - loss: 6.8007e-04 - accuracy: 1.0000 - val_loss: 1.7322 - val_accuracy: 0.7150\n",
            "Epoch 138/200\n",
            "25/25 [==============================] - 0s 7ms/step - loss: 7.2971e-04 - accuracy: 1.0000 - val_loss: 1.7347 - val_accuracy: 0.7150\n",
            "Epoch 139/200\n",
            "25/25 [==============================] - 0s 6ms/step - loss: 6.5875e-04 - accuracy: 1.0000 - val_loss: 1.7378 - val_accuracy: 0.7150\n",
            "Epoch 140/200\n",
            "25/25 [==============================] - 0s 6ms/step - loss: 6.9078e-04 - accuracy: 1.0000 - val_loss: 1.7365 - val_accuracy: 0.7150\n",
            "Epoch 141/200\n",
            "25/25 [==============================] - 0s 7ms/step - loss: 6.8135e-04 - accuracy: 1.0000 - val_loss: 1.7385 - val_accuracy: 0.7150\n",
            "Epoch 142/200\n",
            "25/25 [==============================] - 0s 7ms/step - loss: 7.0462e-04 - accuracy: 1.0000 - val_loss: 1.7383 - val_accuracy: 0.7150\n",
            "Epoch 143/200\n",
            "25/25 [==============================] - 0s 7ms/step - loss: 6.7933e-04 - accuracy: 1.0000 - val_loss: 1.7422 - val_accuracy: 0.7150\n",
            "Epoch 144/200\n",
            "25/25 [==============================] - 0s 7ms/step - loss: 6.5184e-04 - accuracy: 1.0000 - val_loss: 1.7428 - val_accuracy: 0.7150\n",
            "Epoch 145/200\n",
            "25/25 [==============================] - 0s 7ms/step - loss: 6.2428e-04 - accuracy: 1.0000 - val_loss: 1.7450 - val_accuracy: 0.7150\n",
            "Epoch 146/200\n",
            "25/25 [==============================] - 0s 6ms/step - loss: 6.7620e-04 - accuracy: 1.0000 - val_loss: 1.7460 - val_accuracy: 0.7150\n",
            "Epoch 147/200\n",
            "25/25 [==============================] - 0s 9ms/step - loss: 7.0989e-04 - accuracy: 1.0000 - val_loss: 1.7474 - val_accuracy: 0.7150\n",
            "Epoch 148/200\n",
            "25/25 [==============================] - 0s 8ms/step - loss: 6.0818e-04 - accuracy: 1.0000 - val_loss: 1.7501 - val_accuracy: 0.7150\n",
            "Epoch 149/200\n",
            "25/25 [==============================] - 0s 9ms/step - loss: 6.3072e-04 - accuracy: 1.0000 - val_loss: 1.7516 - val_accuracy: 0.7150\n",
            "Epoch 150/200\n",
            "25/25 [==============================] - 0s 8ms/step - loss: 5.8825e-04 - accuracy: 1.0000 - val_loss: 1.7534 - val_accuracy: 0.7150\n",
            "Epoch 151/200\n",
            "25/25 [==============================] - 0s 8ms/step - loss: 6.1831e-04 - accuracy: 1.0000 - val_loss: 1.7551 - val_accuracy: 0.7150\n",
            "Epoch 152/200\n",
            "25/25 [==============================] - 0s 8ms/step - loss: 5.8982e-04 - accuracy: 1.0000 - val_loss: 1.7561 - val_accuracy: 0.7150\n",
            "Epoch 153/200\n",
            "25/25 [==============================] - 0s 8ms/step - loss: 5.7204e-04 - accuracy: 1.0000 - val_loss: 1.7565 - val_accuracy: 0.7150\n",
            "Epoch 154/200\n",
            "25/25 [==============================] - 0s 9ms/step - loss: 5.3922e-04 - accuracy: 1.0000 - val_loss: 1.7583 - val_accuracy: 0.7150\n",
            "Epoch 155/200\n",
            "25/25 [==============================] - 0s 8ms/step - loss: 5.4404e-04 - accuracy: 1.0000 - val_loss: 1.7605 - val_accuracy: 0.7150\n",
            "Epoch 156/200\n",
            "25/25 [==============================] - 0s 8ms/step - loss: 5.4409e-04 - accuracy: 1.0000 - val_loss: 1.7618 - val_accuracy: 0.7150\n",
            "Epoch 157/200\n",
            "25/25 [==============================] - 0s 8ms/step - loss: 5.4922e-04 - accuracy: 1.0000 - val_loss: 1.7629 - val_accuracy: 0.7150\n",
            "Epoch 158/200\n",
            "25/25 [==============================] - 0s 8ms/step - loss: 4.7929e-04 - accuracy: 1.0000 - val_loss: 1.7640 - val_accuracy: 0.7150\n",
            "Epoch 159/200\n",
            "25/25 [==============================] - 0s 9ms/step - loss: 5.0815e-04 - accuracy: 1.0000 - val_loss: 1.7678 - val_accuracy: 0.7150\n",
            "Epoch 160/200\n",
            "25/25 [==============================] - 0s 8ms/step - loss: 5.3596e-04 - accuracy: 1.0000 - val_loss: 1.7676 - val_accuracy: 0.7150\n",
            "Epoch 161/200\n",
            "25/25 [==============================] - 0s 7ms/step - loss: 5.1856e-04 - accuracy: 1.0000 - val_loss: 1.7699 - val_accuracy: 0.7150\n",
            "Epoch 162/200\n",
            "25/25 [==============================] - 0s 6ms/step - loss: 4.9935e-04 - accuracy: 1.0000 - val_loss: 1.7724 - val_accuracy: 0.7150\n",
            "Epoch 163/200\n",
            "25/25 [==============================] - 0s 7ms/step - loss: 4.8277e-04 - accuracy: 1.0000 - val_loss: 1.7735 - val_accuracy: 0.7150\n",
            "Epoch 164/200\n",
            "25/25 [==============================] - 0s 7ms/step - loss: 4.7974e-04 - accuracy: 1.0000 - val_loss: 1.7745 - val_accuracy: 0.7150\n",
            "Epoch 165/200\n",
            "25/25 [==============================] - 0s 7ms/step - loss: 5.1321e-04 - accuracy: 1.0000 - val_loss: 1.7745 - val_accuracy: 0.7150\n",
            "Epoch 166/200\n",
            "25/25 [==============================] - 0s 6ms/step - loss: 4.7549e-04 - accuracy: 1.0000 - val_loss: 1.7788 - val_accuracy: 0.7150\n",
            "Epoch 167/200\n",
            "25/25 [==============================] - 0s 8ms/step - loss: 4.7195e-04 - accuracy: 1.0000 - val_loss: 1.7785 - val_accuracy: 0.7150\n",
            "Epoch 168/200\n",
            "25/25 [==============================] - 0s 8ms/step - loss: 4.7775e-04 - accuracy: 1.0000 - val_loss: 1.7806 - val_accuracy: 0.7150\n",
            "Epoch 169/200\n",
            "25/25 [==============================] - 0s 9ms/step - loss: 5.0907e-04 - accuracy: 1.0000 - val_loss: 1.7817 - val_accuracy: 0.7150\n",
            "Epoch 170/200\n",
            "25/25 [==============================] - 0s 8ms/step - loss: 4.0688e-04 - accuracy: 1.0000 - val_loss: 1.7845 - val_accuracy: 0.7150\n",
            "Epoch 171/200\n",
            "25/25 [==============================] - 0s 8ms/step - loss: 5.0138e-04 - accuracy: 1.0000 - val_loss: 1.7856 - val_accuracy: 0.7150\n",
            "Epoch 172/200\n",
            "25/25 [==============================] - 0s 8ms/step - loss: 4.5509e-04 - accuracy: 1.0000 - val_loss: 1.7881 - val_accuracy: 0.7150\n",
            "Epoch 173/200\n",
            "25/25 [==============================] - 0s 9ms/step - loss: 4.5065e-04 - accuracy: 1.0000 - val_loss: 1.7899 - val_accuracy: 0.7150\n",
            "Epoch 174/200\n",
            "25/25 [==============================] - 0s 9ms/step - loss: 4.3871e-04 - accuracy: 1.0000 - val_loss: 1.7914 - val_accuracy: 0.7150\n",
            "Epoch 175/200\n",
            "25/25 [==============================] - 0s 8ms/step - loss: 4.7473e-04 - accuracy: 1.0000 - val_loss: 1.7927 - val_accuracy: 0.7200\n",
            "Epoch 176/200\n",
            "25/25 [==============================] - 0s 8ms/step - loss: 4.2197e-04 - accuracy: 1.0000 - val_loss: 1.7926 - val_accuracy: 0.7200\n",
            "Epoch 177/200\n",
            "25/25 [==============================] - 0s 7ms/step - loss: 4.2517e-04 - accuracy: 1.0000 - val_loss: 1.7956 - val_accuracy: 0.7200\n",
            "Epoch 178/200\n",
            "25/25 [==============================] - 0s 7ms/step - loss: 4.0325e-04 - accuracy: 1.0000 - val_loss: 1.7964 - val_accuracy: 0.7200\n",
            "Epoch 179/200\n",
            "25/25 [==============================] - 0s 7ms/step - loss: 4.1174e-04 - accuracy: 1.0000 - val_loss: 1.7987 - val_accuracy: 0.7200\n",
            "Epoch 180/200\n",
            "25/25 [==============================] - 0s 7ms/step - loss: 4.1099e-04 - accuracy: 1.0000 - val_loss: 1.8008 - val_accuracy: 0.7200\n",
            "Epoch 181/200\n",
            "25/25 [==============================] - 0s 7ms/step - loss: 3.8656e-04 - accuracy: 1.0000 - val_loss: 1.8011 - val_accuracy: 0.7200\n",
            "Epoch 182/200\n",
            "25/25 [==============================] - 0s 7ms/step - loss: 4.1532e-04 - accuracy: 1.0000 - val_loss: 1.8031 - val_accuracy: 0.7200\n",
            "Epoch 183/200\n",
            "25/25 [==============================] - 0s 8ms/step - loss: 4.3229e-04 - accuracy: 1.0000 - val_loss: 1.8051 - val_accuracy: 0.7200\n",
            "Epoch 184/200\n",
            "25/25 [==============================] - 0s 8ms/step - loss: 4.0621e-04 - accuracy: 1.0000 - val_loss: 1.8068 - val_accuracy: 0.7200\n",
            "Epoch 185/200\n",
            "25/25 [==============================] - 0s 8ms/step - loss: 4.3613e-04 - accuracy: 1.0000 - val_loss: 1.8074 - val_accuracy: 0.7250\n",
            "Epoch 186/200\n",
            "25/25 [==============================] - 0s 8ms/step - loss: 3.6998e-04 - accuracy: 1.0000 - val_loss: 1.8096 - val_accuracy: 0.7200\n",
            "Epoch 187/200\n",
            "25/25 [==============================] - 0s 8ms/step - loss: 4.2727e-04 - accuracy: 1.0000 - val_loss: 1.8104 - val_accuracy: 0.7250\n",
            "Epoch 188/200\n",
            "25/25 [==============================] - 0s 8ms/step - loss: 3.7015e-04 - accuracy: 1.0000 - val_loss: 1.8110 - val_accuracy: 0.7250\n",
            "Epoch 189/200\n",
            "25/25 [==============================] - 0s 8ms/step - loss: 3.3249e-04 - accuracy: 1.0000 - val_loss: 1.8139 - val_accuracy: 0.7200\n",
            "Epoch 190/200\n",
            "25/25 [==============================] - 0s 8ms/step - loss: 3.5889e-04 - accuracy: 1.0000 - val_loss: 1.8165 - val_accuracy: 0.7200\n",
            "Epoch 191/200\n",
            "25/25 [==============================] - 0s 9ms/step - loss: 3.8591e-04 - accuracy: 1.0000 - val_loss: 1.8168 - val_accuracy: 0.7200\n",
            "Epoch 192/200\n",
            "25/25 [==============================] - 0s 8ms/step - loss: 3.2260e-04 - accuracy: 1.0000 - val_loss: 1.8192 - val_accuracy: 0.7200\n",
            "Epoch 193/200\n",
            "25/25 [==============================] - 0s 8ms/step - loss: 3.5031e-04 - accuracy: 1.0000 - val_loss: 1.8204 - val_accuracy: 0.7200\n",
            "Epoch 194/200\n",
            "25/25 [==============================] - 0s 10ms/step - loss: 3.5186e-04 - accuracy: 1.0000 - val_loss: 1.8218 - val_accuracy: 0.7250\n",
            "Epoch 195/200\n",
            "25/25 [==============================] - 0s 8ms/step - loss: 3.4709e-04 - accuracy: 1.0000 - val_loss: 1.8245 - val_accuracy: 0.7200\n",
            "Epoch 196/200\n",
            "25/25 [==============================] - 0s 9ms/step - loss: 3.4207e-04 - accuracy: 1.0000 - val_loss: 1.8246 - val_accuracy: 0.7250\n",
            "Epoch 197/200\n",
            "25/25 [==============================] - 0s 7ms/step - loss: 3.5373e-04 - accuracy: 1.0000 - val_loss: 1.8273 - val_accuracy: 0.7200\n",
            "Epoch 198/200\n",
            "25/25 [==============================] - 0s 7ms/step - loss: 3.4304e-04 - accuracy: 1.0000 - val_loss: 1.8266 - val_accuracy: 0.7250\n",
            "Epoch 199/200\n",
            "25/25 [==============================] - 0s 7ms/step - loss: 3.5090e-04 - accuracy: 1.0000 - val_loss: 1.8300 - val_accuracy: 0.7200\n",
            "Epoch 200/200\n",
            "25/25 [==============================] - 0s 6ms/step - loss: 3.1338e-04 - accuracy: 1.0000 - val_loss: 1.8322 - val_accuracy: 0.7250\n"
          ],
          "name": "stdout"
        }
      ]
    },
    {
      "cell_type": "code",
      "metadata": {
        "id": "jsafyzUGpU7O"
      },
      "source": [
        "model.save_weights(\"ANN_weights.h5\")"
      ],
      "execution_count": null,
      "outputs": []
    },
    {
      "cell_type": "code",
      "metadata": {
        "id": "9BEBs0yz_pIq"
      },
      "source": [
        "from tensorflow.keras.models import model_from_json\n",
        "model_json = model.to_json()\n",
        "with open(\"ANN_model.json\", \"w\") as json_file:\n",
        "  json_file.write(model_json)"
      ],
      "execution_count": null,
      "outputs": []
    },
    {
      "cell_type": "code",
      "metadata": {
        "colab": {
          "base_uri": "https://localhost:8080/"
        },
        "id": "u9AFmFjig38o",
        "outputId": "96429bca-f2ef-46ef-91e8-a9d56719ce13"
      },
      "source": [
        "test_loss, test_acc = model.evaluate(X_test,y_test)\n",
        "print('test_acc: ',test_acc)"
      ],
      "execution_count": null,
      "outputs": [
        {
          "output_type": "stream",
          "text": [
            "7/7 [==============================] - 0s 2ms/step - loss: 1.8322 - accuracy: 0.7250\n",
            "test_acc:  0.7250000238418579\n"
          ],
          "name": "stdout"
        }
      ]
    },
    {
      "cell_type": "code",
      "metadata": {
        "colab": {
          "base_uri": "https://localhost:8080/"
        },
        "id": "eAbl8uENhDth",
        "outputId": "f358b0d5-d9c4-4873-9801-ec98f8508081"
      },
      "source": [
        "predictions = model.predict(X_test)\n",
        "np.argmax(predictions[0])"
      ],
      "execution_count": null,
      "outputs": [
        {
          "output_type": "execute_result",
          "data": {
            "text/plain": [
              "0"
            ]
          },
          "metadata": {
            "tags": []
          },
          "execution_count": 22
        }
      ]
    },
    {
      "cell_type": "code",
      "metadata": {
        "colab": {
          "base_uri": "https://localhost:8080/"
        },
        "id": "ga537xLqhJek",
        "outputId": "2a6802e0-48b8-4541-aa1a-dda81a884e90"
      },
      "source": [
        "np.argmax(predictions[99])"
      ],
      "execution_count": null,
      "outputs": [
        {
          "output_type": "execute_result",
          "data": {
            "text/plain": [
              "8"
            ]
          },
          "metadata": {
            "tags": []
          },
          "execution_count": 26
        }
      ]
    }
  ]
}